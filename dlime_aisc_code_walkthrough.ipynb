{
 "cells": [
  {
   "cell_type": "markdown",
   "metadata": {},
   "source": [
    "# DLIME"
   ]
  },
  {
   "cell_type": "markdown",
   "metadata": {},
   "source": [
    "In this work, we propose a deterministic version of Local Interpretable Model Agnostic Explanations (LIME) and the experimental results on three different medical datasets shows the superiority for Deterministic Local Interpretable Model-Agnostic Explanations (DLIME)."
   ]
  },
  {
   "cell_type": "markdown",
   "metadata": {},
   "source": [
    "## Clone it from Github"
   ]
  },
  {
   "cell_type": "markdown",
   "metadata": {},
   "source": [
    "git clone https://github.com/rehmanzafar/dlime_experiments.git"
   ]
  },
  {
   "cell_type": "markdown",
   "metadata": {
    "collapsed": true
   },
   "source": [
    "## Load Required Packages"
   ]
  },
  {
   "cell_type": "code",
   "execution_count": null,
   "metadata": {},
   "outputs": [],
   "source": [
    "import numpy as np\n",
    "import matplotlib.pyplot as plt\n",
    "from sklearn.linear_model import LinearRegression\n",
    "from sklearn.model_selection import train_test_split\n",
    "from load_dataset import LoadDataset\n",
    "\n",
    "%matplotlib inline"
   ]
  },
  {
   "cell_type": "markdown",
   "metadata": {},
   "source": [
    "## Load dataset"
   ]
  },
  {
   "cell_type": "code",
   "execution_count": null,
   "metadata": {},
   "outputs": [],
   "source": [
    "# We are using breast cancer dataset :  https://archive.ics.uci.edu/ml/datasets/Breast+Cancer+Wisconsin+(Diagnostic)\n",
    "comp_data = LoadDataset(which='bc')\n",
    "X = comp_data.data.data\n",
    "\n",
    "feature_names = comp_data.data.feature_names\n",
    "target_names = comp_data.data.target_names"
   ]
  },
  {
   "cell_type": "markdown",
   "metadata": {},
   "source": [
    "## Split dataset"
   ]
  },
  {
   "cell_type": "code",
   "execution_count": null,
   "metadata": {},
   "outputs": [],
   "source": [
    "#train, test, labels_train, labels_test = train_test_split(test.data.data, test.data.target, train_size=0.80)\n",
    "# np.save(\"X_train.npy\", train)\n",
    "# np.save(\"X_test.npy\", test)\n",
    "# np.save(\"y_train.npy\", labels_train)\n",
    "# np.save(\"y_test.npy\", labels_test)\n",
    "\n",
    "train = np.load(\"data/X_train.npy\")\n",
    "test = np.load(\"data/X_test.npy\")\n",
    "labels_train = np.load(\"data/y_train.npy\")\n",
    "labels_test = np.load(\"data/y_test.npy\")"
   ]
  },
  {
   "cell_type": "markdown",
   "metadata": {},
   "source": [
    "## Train Random Forest model"
   ]
  },
  {
   "cell_type": "code",
   "execution_count": null,
   "metadata": {},
   "outputs": [],
   "source": [
    "from sklearn.ensemble import RandomForestClassifier\n",
    "rf = RandomForestClassifier(n_estimators=10, random_state=0, max_depth=5, max_features=5)\n",
    "rf.fit(train, labels_train)\n",
    "mean_accuracy = rf.score(test, labels_test)\n",
    "mean_accuracy"
   ]
  },
  {
   "cell_type": "markdown",
   "metadata": {},
   "source": [
    "## Load Explainer"
   ]
  },
  {
   "cell_type": "code",
   "execution_count": null,
   "metadata": {},
   "outputs": [],
   "source": [
    "from explainer_tabular import LimeTabularExplainer\n",
    "explainer = LimeTabularExplainer(train,   mode=\"classification\", feature_names=feature_names,\n",
    "                                 class_names=target_names, discretize_continuous=True,  verbose=False)"
   ]
  },
  {
   "cell_type": "markdown",
   "metadata": {},
   "source": [
    "## Apply Hierarchical Clustering on training data "
   ]
  },
  {
   "cell_type": "code",
   "execution_count": null,
   "metadata": {},
   "outputs": [],
   "source": [
    "from sklearn.cluster import AgglomerativeClustering\n",
    "clustering = AgglomerativeClustering().fit(X)\n",
    "names = list(feature_names)+[\"membership\"]\n",
    "clustered_data = np.column_stack([X, clustering.labels_])"
   ]
  },
  {
   "cell_type": "markdown",
   "metadata": {},
   "source": [
    "## Train KNN to find the local subspace"
   ]
  },
  {
   "cell_type": "code",
   "execution_count": null,
   "metadata": {},
   "outputs": [],
   "source": [
    "from sklearn.neighbors import NearestNeighbors\n",
    "nbrs = NearestNeighbors(n_neighbors=1, algorithm='ball_tree').fit(train)\n",
    "distances, indices = nbrs.kneighbors(test)\n",
    "clabel = clustering.labels_"
   ]
  },
  {
   "cell_type": "markdown",
   "metadata": {},
   "source": [
    "## Implement Jaccard Similarity and Jaccard Distance"
   ]
  },
  {
   "cell_type": "code",
   "execution_count": null,
   "metadata": {},
   "outputs": [],
   "source": [
    "# Computes the similarity of  items \n",
    "def jaccard_similarity(list1, list2):\n",
    "    s1 = set(list1)\n",
    "    s2 = set(list2)\n",
    "    return len(s1.intersection(s2)) / len(s1.union(s2))\n",
    "\n",
    "#Computes thedissimilarity of items \n",
    "def jaccard_distance(usecase):\n",
    "    sim = []\n",
    "    for l in usecase:\n",
    "        i_sim = []\n",
    "        for j in usecase:\n",
    "            i_sim.append(1 - jaccard_similarity(l, j))\n",
    "        sim.append(i_sim)\n",
    "    return sim"
   ]
  },
  {
   "cell_type": "markdown",
   "metadata": {},
   "source": [
    "## Explain an Instance With LIME and DLIME"
   ]
  },
  {
   "cell_type": "code",
   "execution_count": null,
   "metadata": {},
   "outputs": [],
   "source": [
    "x = 2\n",
    "\n",
    "dlime_exp = []\n",
    "lime_exp = []\n",
    "\n",
    "for i in range(0, 10):\n",
    "        p_label = clabel[indices[x]]\n",
    "        N = clustered_data[clustered_data[:, 30] == p_label]\n",
    "        subset = np.delete(N, 30, axis=1)\n",
    "\n",
    "        exp_dlime = explainer.explain_instance_hclust(test[x],\n",
    "                                             rf.predict_proba,\n",
    "                                             num_features=10,\n",
    "                                             model_regressor=LinearRegression(),\n",
    "                                             clustered_data = subset,\n",
    "                                             regressor = 'linear', explainer='dlime', labels=(0,1))\n",
    "\n",
    "        fig_dlime, r_features = exp_dlime.as_pyplot_to_figure(type='h', name = i+.2, label='0')\n",
    "        #fig_dlime.show()\n",
    "        dlime_exp.append(r_features)\n",
    "\n",
    "\n",
    "        exp_lime = explainer.explain_instance_hclust(test[x],\n",
    "                                             rf.predict_proba,\n",
    "                                             num_features=10,\n",
    "                                             model_regressor= LinearRegression(),\n",
    "                                             regressor = 'linear', explainer = 'lime', labels=(0,1))\n",
    "\n",
    "        fig_lime, r_features = exp_lime.as_pyplot_to_figure(type='h', name = i+.3, label='0')\n",
    "        #fig_lime.show()\n",
    "        lime_exp.append(r_features)"
   ]
  },
  {
   "cell_type": "markdown",
   "metadata": {},
   "source": [
    "## Compute Jaccard distance among DLIME explanations"
   ]
  },
  {
   "cell_type": "code",
   "execution_count": null,
   "metadata": {},
   "outputs": [],
   "source": [
    "sim = jaccard_distance(dlime_exp)\n",
    "#np.savetxt(\"results/nn_dlime_jdist_bc.csv\", sim, delimiter=\",\")\n",
    "#print(np.asarray(sim).mean())\n",
    "\n",
    "plt.matshow(sim);\n",
    "plt.colorbar()\n",
    "#plt.savefig(\"results/sim_use_case_2.pdf\", bbox_inches='tight')\n",
    "#plt.show()"
   ]
  },
  {
   "cell_type": "markdown",
   "metadata": {},
   "source": [
    "## Compute Jaccard distance among LIME explanations"
   ]
  },
  {
   "cell_type": "code",
   "execution_count": null,
   "metadata": {},
   "outputs": [],
   "source": [
    "sim = jaccard_distance(lime_exp)\n",
    "#np.savetxt(\"results/nn_lime_jdist_bc.csv\", sim, delimiter=\",\")\n",
    "#print(np.asarray(sim).mean())\n",
    "\n",
    "plt.matshow(sim);\n",
    "plt.colorbar()\n",
    "#plt.savefig(\"results/sim_use_case_3.pdf\", bbox_inches='tight')\n",
    "#plt.show()"
   ]
  },
  {
   "cell_type": "markdown",
   "metadata": {},
   "source": [
    "## Citation"
   ]
  },
  {
   "cell_type": "raw",
   "metadata": {},
   "source": [
    "Please consider citing our work if you use this code for your research.\n",
    "\n",
    "@InProceedings{zafar2019dlime,\n",
    "  author    = {Muhammad Rehman Zafar and Naimul Mefraz Khan},\n",
    "  title     = {DLIME: A Deterministic Local Interpretable Model-Agnostic Explanations Approach for Computer-Aided Diagnosis Systems},\n",
    "  booktitle = {In proceeding of ACM SIGKDD Workshop on Explainable AI/ML (XAI) for Accountability, Fairness, and Transparency},\n",
    "  year      = {2019},\n",
    "  publisher = {ACM},\n",
    "  address   = {Anchorage, Alaska}\n",
    "}"
   ]
  },
  {
   "cell_type": "code",
   "execution_count": null,
   "metadata": {},
   "outputs": [],
   "source": []
  }
 ],
 "metadata": {
  "kernelspec": {
   "display_name": "Python 3",
   "language": "python",
   "name": "python3"
  },
  "language_info": {
   "codemirror_mode": {
    "name": "ipython",
    "version": 3
   },
   "file_extension": ".py",
   "mimetype": "text/x-python",
   "name": "python",
   "nbconvert_exporter": "python",
   "pygments_lexer": "ipython3",
   "version": "3.6.0"
  }
 },
 "nbformat": 4,
 "nbformat_minor": 1
}
